{
 "cells": [
  {
   "cell_type": "markdown",
   "id": "ddfdf2e9",
   "metadata": {},
   "source": [
    "### Week 1 Jupyter Notebook – Linear Regression 1\n",
    "Each week, you will apply the concepts of that week to your Integrated Capstone Project’s dataset. In preparation for Milestone One, create a Jupyter Notebook (similar to in Module B, semester two) that illustrates these lessons. There are no specific questions to answer in your Jupyter Notebook files in this course; your general goal is to analyze your data, using the methods you have learned about in this course and in this program, and draw interesting conclusions. \n",
    "\n",
    "For Week 1, include concepts such as linear regression with polynomial terms, interaction terms, multicollinearity, variance inflation factor and regression, and categorical and continuous features. "
   ]
  },
  {
   "cell_type": "code",
   "execution_count": 108,
   "id": "8bfab143",
   "metadata": {},
   "outputs": [],
   "source": [
    "#import libraries\n",
    "import pandas as pd\n",
    "import numpy as np\n",
    "import matplotlib.pyplot as plt\n",
    "from sklearn.linear_model import LinearRegression\n",
    "from sklearn.preprocessing import PolynomialFeatures\n",
    "from sklearn.model_selection import train_test_split\n",
    "from statsmodels.stats.outliers_influence import variance_inflation_factor\n",
    "import statsmodels.api as sm\n",
    "import seaborn as sns\n",
    "from sklearn.metrics import r2_score, mean_squared_error\n"
   ]
  },
  {
   "cell_type": "code",
   "execution_count": 109,
   "id": "96558872",
   "metadata": {},
   "outputs": [
    {
     "name": "stdout",
     "output_type": "stream",
     "text": [
      "<class 'pandas.core.frame.DataFrame'>\n",
      "RangeIndex: 307511 entries, 0 to 307510\n",
      "Columns: 122 entries, SK_ID_CURR to AMT_REQ_CREDIT_BUREAU_YEAR\n",
      "dtypes: float64(65), int64(41), object(16)\n",
      "memory usage: 286.2+ MB\n"
     ]
    },
    {
     "data": {
      "text/plain": [
       "(None,\n",
       "    SK_ID_CURR  TARGET NAME_CONTRACT_TYPE CODE_GENDER FLAG_OWN_CAR  \\\n",
       " 0      100002       1         Cash loans           M            N   \n",
       " 1      100003       0         Cash loans           F            N   \n",
       " 2      100004       0    Revolving loans           M            Y   \n",
       " 3      100006       0         Cash loans           F            N   \n",
       " 4      100007       0         Cash loans           M            N   \n",
       " \n",
       "   FLAG_OWN_REALTY  CNT_CHILDREN  AMT_INCOME_TOTAL  AMT_CREDIT  AMT_ANNUITY  \\\n",
       " 0               Y             0          202500.0    406597.5      24700.5   \n",
       " 1               N             0          270000.0   1293502.5      35698.5   \n",
       " 2               Y             0           67500.0    135000.0       6750.0   \n",
       " 3               Y             0          135000.0    312682.5      29686.5   \n",
       " 4               Y             0          121500.0    513000.0      21865.5   \n",
       " \n",
       "    ...  FLAG_DOCUMENT_18 FLAG_DOCUMENT_19 FLAG_DOCUMENT_20 FLAG_DOCUMENT_21  \\\n",
       " 0  ...                 0                0                0                0   \n",
       " 1  ...                 0                0                0                0   \n",
       " 2  ...                 0                0                0                0   \n",
       " 3  ...                 0                0                0                0   \n",
       " 4  ...                 0                0                0                0   \n",
       " \n",
       "   AMT_REQ_CREDIT_BUREAU_HOUR AMT_REQ_CREDIT_BUREAU_DAY  \\\n",
       " 0                        0.0                       0.0   \n",
       " 1                        0.0                       0.0   \n",
       " 2                        0.0                       0.0   \n",
       " 3                        NaN                       NaN   \n",
       " 4                        0.0                       0.0   \n",
       " \n",
       "    AMT_REQ_CREDIT_BUREAU_WEEK  AMT_REQ_CREDIT_BUREAU_MON  \\\n",
       " 0                         0.0                        0.0   \n",
       " 1                         0.0                        0.0   \n",
       " 2                         0.0                        0.0   \n",
       " 3                         NaN                        NaN   \n",
       " 4                         0.0                        0.0   \n",
       " \n",
       "    AMT_REQ_CREDIT_BUREAU_QRT  AMT_REQ_CREDIT_BUREAU_YEAR  \n",
       " 0                        0.0                         1.0  \n",
       " 1                        0.0                         0.0  \n",
       " 2                        0.0                         0.0  \n",
       " 3                        NaN                         NaN  \n",
       " 4                        0.0                         0.0  \n",
       " \n",
       " [5 rows x 122 columns])"
      ]
     },
     "execution_count": 109,
     "metadata": {},
     "output_type": "execute_result"
    }
   ],
   "source": [
    "#load data ---- Kaggle Home Credit Default Risk training dataset\n",
    "file_path = \"Kaggle_Home_Credit_Default_Risk__train.csv\"\n",
    "df = pd.read_csv(file_path)\n",
    "#display basic info/ first few rows of content \n",
    "df_info = df.info()\n",
    "df_head = df.head()\n",
    "\n",
    "df_info, df_head\n"
   ]
  },
  {
   "cell_type": "code",
   "execution_count": 110,
   "id": "8ea2ebd8",
   "metadata": {},
   "outputs": [
    {
     "name": "stdout",
     "output_type": "stream",
     "text": [
      "TARGET\n",
      "0    0.919271\n",
      "1    0.080729\n",
      "Name: proportion, dtype: float64\n"
     ]
    },
    {
     "data": {
      "text/html": [
       "<div>\n",
       "<style scoped>\n",
       "    .dataframe tbody tr th:only-of-type {\n",
       "        vertical-align: middle;\n",
       "    }\n",
       "\n",
       "    .dataframe tbody tr th {\n",
       "        vertical-align: top;\n",
       "    }\n",
       "\n",
       "    .dataframe thead th {\n",
       "        text-align: right;\n",
       "    }\n",
       "</style>\n",
       "<table border=\"1\" class=\"dataframe\">\n",
       "  <thead>\n",
       "    <tr style=\"text-align: right;\">\n",
       "      <th></th>\n",
       "      <th>SK_ID_CURR</th>\n",
       "      <th>TARGET</th>\n",
       "      <th>CNT_CHILDREN</th>\n",
       "      <th>AMT_INCOME_TOTAL</th>\n",
       "      <th>AMT_CREDIT</th>\n",
       "      <th>AMT_ANNUITY</th>\n",
       "      <th>AMT_GOODS_PRICE</th>\n",
       "      <th>REGION_POPULATION_RELATIVE</th>\n",
       "      <th>DAYS_BIRTH</th>\n",
       "      <th>DAYS_EMPLOYED</th>\n",
       "      <th>...</th>\n",
       "      <th>FLAG_DOCUMENT_18</th>\n",
       "      <th>FLAG_DOCUMENT_19</th>\n",
       "      <th>FLAG_DOCUMENT_20</th>\n",
       "      <th>FLAG_DOCUMENT_21</th>\n",
       "      <th>AMT_REQ_CREDIT_BUREAU_HOUR</th>\n",
       "      <th>AMT_REQ_CREDIT_BUREAU_DAY</th>\n",
       "      <th>AMT_REQ_CREDIT_BUREAU_WEEK</th>\n",
       "      <th>AMT_REQ_CREDIT_BUREAU_MON</th>\n",
       "      <th>AMT_REQ_CREDIT_BUREAU_QRT</th>\n",
       "      <th>AMT_REQ_CREDIT_BUREAU_YEAR</th>\n",
       "    </tr>\n",
       "  </thead>\n",
       "  <tbody>\n",
       "    <tr>\n",
       "      <th>count</th>\n",
       "      <td>307511.000000</td>\n",
       "      <td>307511.000000</td>\n",
       "      <td>307511.000000</td>\n",
       "      <td>3.075110e+05</td>\n",
       "      <td>3.075110e+05</td>\n",
       "      <td>307499.000000</td>\n",
       "      <td>3.072330e+05</td>\n",
       "      <td>307511.000000</td>\n",
       "      <td>307511.000000</td>\n",
       "      <td>307511.000000</td>\n",
       "      <td>...</td>\n",
       "      <td>307511.000000</td>\n",
       "      <td>307511.000000</td>\n",
       "      <td>307511.000000</td>\n",
       "      <td>307511.000000</td>\n",
       "      <td>265992.000000</td>\n",
       "      <td>265992.000000</td>\n",
       "      <td>265992.000000</td>\n",
       "      <td>265992.000000</td>\n",
       "      <td>265992.000000</td>\n",
       "      <td>265992.000000</td>\n",
       "    </tr>\n",
       "    <tr>\n",
       "      <th>mean</th>\n",
       "      <td>278180.518577</td>\n",
       "      <td>0.080729</td>\n",
       "      <td>0.417052</td>\n",
       "      <td>1.687979e+05</td>\n",
       "      <td>5.990260e+05</td>\n",
       "      <td>27108.573909</td>\n",
       "      <td>5.383962e+05</td>\n",
       "      <td>0.020868</td>\n",
       "      <td>-16036.995067</td>\n",
       "      <td>63815.045904</td>\n",
       "      <td>...</td>\n",
       "      <td>0.008130</td>\n",
       "      <td>0.000595</td>\n",
       "      <td>0.000507</td>\n",
       "      <td>0.000335</td>\n",
       "      <td>0.006402</td>\n",
       "      <td>0.007000</td>\n",
       "      <td>0.034362</td>\n",
       "      <td>0.267395</td>\n",
       "      <td>0.265474</td>\n",
       "      <td>1.899974</td>\n",
       "    </tr>\n",
       "    <tr>\n",
       "      <th>std</th>\n",
       "      <td>102790.175348</td>\n",
       "      <td>0.272419</td>\n",
       "      <td>0.722121</td>\n",
       "      <td>2.371231e+05</td>\n",
       "      <td>4.024908e+05</td>\n",
       "      <td>14493.737315</td>\n",
       "      <td>3.694465e+05</td>\n",
       "      <td>0.013831</td>\n",
       "      <td>4363.988632</td>\n",
       "      <td>141275.766519</td>\n",
       "      <td>...</td>\n",
       "      <td>0.089798</td>\n",
       "      <td>0.024387</td>\n",
       "      <td>0.022518</td>\n",
       "      <td>0.018299</td>\n",
       "      <td>0.083849</td>\n",
       "      <td>0.110757</td>\n",
       "      <td>0.204685</td>\n",
       "      <td>0.916002</td>\n",
       "      <td>0.794056</td>\n",
       "      <td>1.869295</td>\n",
       "    </tr>\n",
       "    <tr>\n",
       "      <th>min</th>\n",
       "      <td>100002.000000</td>\n",
       "      <td>0.000000</td>\n",
       "      <td>0.000000</td>\n",
       "      <td>2.565000e+04</td>\n",
       "      <td>4.500000e+04</td>\n",
       "      <td>1615.500000</td>\n",
       "      <td>4.050000e+04</td>\n",
       "      <td>0.000290</td>\n",
       "      <td>-25229.000000</td>\n",
       "      <td>-17912.000000</td>\n",
       "      <td>...</td>\n",
       "      <td>0.000000</td>\n",
       "      <td>0.000000</td>\n",
       "      <td>0.000000</td>\n",
       "      <td>0.000000</td>\n",
       "      <td>0.000000</td>\n",
       "      <td>0.000000</td>\n",
       "      <td>0.000000</td>\n",
       "      <td>0.000000</td>\n",
       "      <td>0.000000</td>\n",
       "      <td>0.000000</td>\n",
       "    </tr>\n",
       "    <tr>\n",
       "      <th>25%</th>\n",
       "      <td>189145.500000</td>\n",
       "      <td>0.000000</td>\n",
       "      <td>0.000000</td>\n",
       "      <td>1.125000e+05</td>\n",
       "      <td>2.700000e+05</td>\n",
       "      <td>16524.000000</td>\n",
       "      <td>2.385000e+05</td>\n",
       "      <td>0.010006</td>\n",
       "      <td>-19682.000000</td>\n",
       "      <td>-2760.000000</td>\n",
       "      <td>...</td>\n",
       "      <td>0.000000</td>\n",
       "      <td>0.000000</td>\n",
       "      <td>0.000000</td>\n",
       "      <td>0.000000</td>\n",
       "      <td>0.000000</td>\n",
       "      <td>0.000000</td>\n",
       "      <td>0.000000</td>\n",
       "      <td>0.000000</td>\n",
       "      <td>0.000000</td>\n",
       "      <td>0.000000</td>\n",
       "    </tr>\n",
       "    <tr>\n",
       "      <th>50%</th>\n",
       "      <td>278202.000000</td>\n",
       "      <td>0.000000</td>\n",
       "      <td>0.000000</td>\n",
       "      <td>1.471500e+05</td>\n",
       "      <td>5.135310e+05</td>\n",
       "      <td>24903.000000</td>\n",
       "      <td>4.500000e+05</td>\n",
       "      <td>0.018850</td>\n",
       "      <td>-15750.000000</td>\n",
       "      <td>-1213.000000</td>\n",
       "      <td>...</td>\n",
       "      <td>0.000000</td>\n",
       "      <td>0.000000</td>\n",
       "      <td>0.000000</td>\n",
       "      <td>0.000000</td>\n",
       "      <td>0.000000</td>\n",
       "      <td>0.000000</td>\n",
       "      <td>0.000000</td>\n",
       "      <td>0.000000</td>\n",
       "      <td>0.000000</td>\n",
       "      <td>1.000000</td>\n",
       "    </tr>\n",
       "    <tr>\n",
       "      <th>75%</th>\n",
       "      <td>367142.500000</td>\n",
       "      <td>0.000000</td>\n",
       "      <td>1.000000</td>\n",
       "      <td>2.025000e+05</td>\n",
       "      <td>8.086500e+05</td>\n",
       "      <td>34596.000000</td>\n",
       "      <td>6.795000e+05</td>\n",
       "      <td>0.028663</td>\n",
       "      <td>-12413.000000</td>\n",
       "      <td>-289.000000</td>\n",
       "      <td>...</td>\n",
       "      <td>0.000000</td>\n",
       "      <td>0.000000</td>\n",
       "      <td>0.000000</td>\n",
       "      <td>0.000000</td>\n",
       "      <td>0.000000</td>\n",
       "      <td>0.000000</td>\n",
       "      <td>0.000000</td>\n",
       "      <td>0.000000</td>\n",
       "      <td>0.000000</td>\n",
       "      <td>3.000000</td>\n",
       "    </tr>\n",
       "    <tr>\n",
       "      <th>max</th>\n",
       "      <td>456255.000000</td>\n",
       "      <td>1.000000</td>\n",
       "      <td>19.000000</td>\n",
       "      <td>1.170000e+08</td>\n",
       "      <td>4.050000e+06</td>\n",
       "      <td>258025.500000</td>\n",
       "      <td>4.050000e+06</td>\n",
       "      <td>0.072508</td>\n",
       "      <td>-7489.000000</td>\n",
       "      <td>365243.000000</td>\n",
       "      <td>...</td>\n",
       "      <td>1.000000</td>\n",
       "      <td>1.000000</td>\n",
       "      <td>1.000000</td>\n",
       "      <td>1.000000</td>\n",
       "      <td>4.000000</td>\n",
       "      <td>9.000000</td>\n",
       "      <td>8.000000</td>\n",
       "      <td>27.000000</td>\n",
       "      <td>261.000000</td>\n",
       "      <td>25.000000</td>\n",
       "    </tr>\n",
       "  </tbody>\n",
       "</table>\n",
       "<p>8 rows × 106 columns</p>\n",
       "</div>"
      ],
      "text/plain": [
       "          SK_ID_CURR         TARGET   CNT_CHILDREN  AMT_INCOME_TOTAL  \\\n",
       "count  307511.000000  307511.000000  307511.000000      3.075110e+05   \n",
       "mean   278180.518577       0.080729       0.417052      1.687979e+05   \n",
       "std    102790.175348       0.272419       0.722121      2.371231e+05   \n",
       "min    100002.000000       0.000000       0.000000      2.565000e+04   \n",
       "25%    189145.500000       0.000000       0.000000      1.125000e+05   \n",
       "50%    278202.000000       0.000000       0.000000      1.471500e+05   \n",
       "75%    367142.500000       0.000000       1.000000      2.025000e+05   \n",
       "max    456255.000000       1.000000      19.000000      1.170000e+08   \n",
       "\n",
       "         AMT_CREDIT    AMT_ANNUITY  AMT_GOODS_PRICE  \\\n",
       "count  3.075110e+05  307499.000000     3.072330e+05   \n",
       "mean   5.990260e+05   27108.573909     5.383962e+05   \n",
       "std    4.024908e+05   14493.737315     3.694465e+05   \n",
       "min    4.500000e+04    1615.500000     4.050000e+04   \n",
       "25%    2.700000e+05   16524.000000     2.385000e+05   \n",
       "50%    5.135310e+05   24903.000000     4.500000e+05   \n",
       "75%    8.086500e+05   34596.000000     6.795000e+05   \n",
       "max    4.050000e+06  258025.500000     4.050000e+06   \n",
       "\n",
       "       REGION_POPULATION_RELATIVE     DAYS_BIRTH  DAYS_EMPLOYED  ...  \\\n",
       "count               307511.000000  307511.000000  307511.000000  ...   \n",
       "mean                     0.020868  -16036.995067   63815.045904  ...   \n",
       "std                      0.013831    4363.988632  141275.766519  ...   \n",
       "min                      0.000290  -25229.000000  -17912.000000  ...   \n",
       "25%                      0.010006  -19682.000000   -2760.000000  ...   \n",
       "50%                      0.018850  -15750.000000   -1213.000000  ...   \n",
       "75%                      0.028663  -12413.000000    -289.000000  ...   \n",
       "max                      0.072508   -7489.000000  365243.000000  ...   \n",
       "\n",
       "       FLAG_DOCUMENT_18  FLAG_DOCUMENT_19  FLAG_DOCUMENT_20  FLAG_DOCUMENT_21  \\\n",
       "count     307511.000000     307511.000000     307511.000000     307511.000000   \n",
       "mean           0.008130          0.000595          0.000507          0.000335   \n",
       "std            0.089798          0.024387          0.022518          0.018299   \n",
       "min            0.000000          0.000000          0.000000          0.000000   \n",
       "25%            0.000000          0.000000          0.000000          0.000000   \n",
       "50%            0.000000          0.000000          0.000000          0.000000   \n",
       "75%            0.000000          0.000000          0.000000          0.000000   \n",
       "max            1.000000          1.000000          1.000000          1.000000   \n",
       "\n",
       "       AMT_REQ_CREDIT_BUREAU_HOUR  AMT_REQ_CREDIT_BUREAU_DAY  \\\n",
       "count               265992.000000              265992.000000   \n",
       "mean                     0.006402                   0.007000   \n",
       "std                      0.083849                   0.110757   \n",
       "min                      0.000000                   0.000000   \n",
       "25%                      0.000000                   0.000000   \n",
       "50%                      0.000000                   0.000000   \n",
       "75%                      0.000000                   0.000000   \n",
       "max                      4.000000                   9.000000   \n",
       "\n",
       "       AMT_REQ_CREDIT_BUREAU_WEEK  AMT_REQ_CREDIT_BUREAU_MON  \\\n",
       "count               265992.000000              265992.000000   \n",
       "mean                     0.034362                   0.267395   \n",
       "std                      0.204685                   0.916002   \n",
       "min                      0.000000                   0.000000   \n",
       "25%                      0.000000                   0.000000   \n",
       "50%                      0.000000                   0.000000   \n",
       "75%                      0.000000                   0.000000   \n",
       "max                      8.000000                  27.000000   \n",
       "\n",
       "       AMT_REQ_CREDIT_BUREAU_QRT  AMT_REQ_CREDIT_BUREAU_YEAR  \n",
       "count              265992.000000               265992.000000  \n",
       "mean                    0.265474                    1.899974  \n",
       "std                     0.794056                    1.869295  \n",
       "min                     0.000000                    0.000000  \n",
       "25%                     0.000000                    0.000000  \n",
       "50%                     0.000000                    1.000000  \n",
       "75%                     0.000000                    3.000000  \n",
       "max                   261.000000                   25.000000  \n",
       "\n",
       "[8 rows x 106 columns]"
      ]
     },
     "execution_count": 110,
     "metadata": {},
     "output_type": "execute_result"
    }
   ],
   "source": [
    "### complete EDA / understand data \n",
    "#target balance --- need to understand percentage of people in the dataset defaulted vs. did not default\n",
    "#per the output: 0 =0.919271; 1 = 0.080729\n",
    "#this indicates taht 92% of applicants did not default (TARGET = 0) 8% of applicants did default (TARGET = 1)\n",
    "#this confirms that dataset is imbalanced, which makes sense since most people do not default on their loans \n",
    "#due to the imbalance, we will need to deal with the imbalance through sampling methods -- like stratisfied, resampling, etc. \n",
    "print(df['TARGET'].value_counts(normalize=True))\n",
    "\n",
    "#describe vbasic statistics for numeric columns\n",
    "df.describe()"
   ]
  },
  {
   "cell_type": "code",
   "execution_count": 111,
   "id": "44192540",
   "metadata": {},
   "outputs": [
    {
     "data": {
      "text/plain": [
       "COMMONAREA_MEDI             214865\n",
       "COMMONAREA_AVG              214865\n",
       "COMMONAREA_MODE             214865\n",
       "NONLIVINGAPARTMENTS_MEDI    213514\n",
       "NONLIVINGAPARTMENTS_MODE    213514\n",
       "NONLIVINGAPARTMENTS_AVG     213514\n",
       "FONDKAPREMONT_MODE          210295\n",
       "LIVINGAPARTMENTS_MODE       210199\n",
       "LIVINGAPARTMENTS_MEDI       210199\n",
       "LIVINGAPARTMENTS_AVG        210199\n",
       "dtype: int64"
      ]
     },
     "execution_count": 111,
     "metadata": {},
     "output_type": "execute_result"
    }
   ],
   "source": [
    "#eval missing values\n",
    "#need to understand which columns have missing values, which help us to understand which features to leverage for modeling\n",
    "missing = df.isnull().sum() \n",
    "missing = missing[missing > 0].sort_values(ascending=False) \n",
    "missing.head(10)"
   ]
  },
  {
   "cell_type": "code",
   "execution_count": 112,
   "id": "47900cbc",
   "metadata": {},
   "outputs": [
    {
     "data": {
      "image/png": "[encoded data removed]",
      "text/plain": [
       "<Figure size 1200x600 with 4 Axes>"
      ]
     },
     "metadata": {},
     "output_type": "display_data"
    }
   ],
   "source": [
    "##visualize key features and how they are distrubuted --- will help with range/shape of data\n",
    "#will eval distribution of income, age (DAYS_BIRTH), employment duration (DAYS_EMPLOYED).\n",
    "#these plots indicate that the date of birth is negative, and some days_employed is 350k+? \n",
    "#these do not make sense so will review further \n",
    "df[['AMT_INCOME_TOTAL', 'DAYS_BIRTH', 'DAYS_EMPLOYED']].hist(bins=30, figsize=(12, 6))\n",
    "plt.tight_layout()\n",
    "plt.show()"
   ]
  },
  {
   "cell_type": "markdown",
   "id": "4b678f43",
   "metadata": {},
   "source": [
    "### Visual EDA: Histogram Analysis\n",
    "\n",
    "Our histograms revealed several key insights:\n",
    "\n",
    "- DAYS_EMPLOYED shows odd values many times at 365,243 days (~1000 years), indicating a placeholder value (probably not a typo since it occurred more than a few times). This confirms our earlier suspicion from .describe() and is consistent with the Kaggle dataset's known quirks. We may filter or flag these in later for modeling.\n",
    "  \n",
    "- DAYS_BIRTH is stored as negative values indicating age in days <i>before</I> the application (will convert to positive values for clarity).\n",
    "\n",
    "- AMT_INCOME_TOTAL is heavily skewed to the right, meaning a small number of applicants report unusually high incomes (which could impact scaling or regression calcs later)."
   ]
  },
  {
   "cell_type": "code",
   "execution_count": 113,
   "id": "b1c2fc37",
   "metadata": {},
   "outputs": [
    {
     "data": {
      "text/plain": [
       "count    307511.000000\n",
       "mean      63815.045904\n",
       "std      141275.766519\n",
       "min      -17912.000000\n",
       "25%       -2760.000000\n",
       "50%       -1213.000000\n",
       "75%        -289.000000\n",
       "max      365243.000000\n",
       "Name: DAYS_EMPLOYED, dtype: float64"
      ]
     },
     "execution_count": 113,
     "metadata": {},
     "output_type": "execute_result"
    }
   ],
   "source": [
    "#clean/prep data for next step of modeling. \n",
    "#per data dictionary, these items need to be reviewed futher as the explanation indicates a red flag -- they are a negative number of days since they are days BEFORE the application date:\n",
    "# >>>>>  DAYS_BIRTH: “How many days before the application the person was born (negative means before the application date)”\n",
    "# >>>>>  DAYS_EMPLOYED: “How many days before the application the person started current employment”\n",
    "# this is needed easier to interpret age in positive years than in negative days\n",
    "#select three continuous features and the target\n",
    "#convert DAYS_BIRTH and DAYS_EMPLOYED to positive numbers\n",
    "#I selected AMT_INCOME_TOTAL', 'DAYS_BIRTH', 'DAYS_EMPLOYED' as three features \n",
    "#based on my background in mortgage lending, I know income is the main component in debt-to-income DTI calculation. Also, there are different requiremetns based on age and employment duration, especially in FHA loans.\n",
    "#these data features logically make sense, plus they are present for almost every row and do not require a lot of processing/cleaniong.\n",
    "df['DAYS_EMPLOYED'].describe()\n"
   ]
  },
  {
   "cell_type": "code",
   "execution_count": 114,
   "id": "e991ff78",
   "metadata": {},
   "outputs": [
    {
     "data": {
      "text/plain": [
       "count    307511.000000\n",
       "mean     -16036.995067\n",
       "std        4363.988632\n",
       "min      -25229.000000\n",
       "25%      -19682.000000\n",
       "50%      -15750.000000\n",
       "75%      -12413.000000\n",
       "max       -7489.000000\n",
       "Name: DAYS_BIRTH, dtype: float64"
      ]
     },
     "execution_count": 114,
     "metadata": {},
     "output_type": "execute_result"
    }
   ],
   "source": [
    "df['DAYS_BIRTH'].describe()"
   ]
  },
  {
   "cell_type": "code",
   "execution_count": 115,
   "id": "f76d6bbb",
   "metadata": {},
   "outputs": [
    {
     "data": {
      "text/plain": [
       "count    252137.000000\n",
       "mean       2384.169325\n",
       "std        2338.360162\n",
       "min           0.000000\n",
       "25%         767.000000\n",
       "50%        1648.000000\n",
       "75%        3175.000000\n",
       "max       17912.000000\n",
       "Name: DAYS_EMPLOYED, dtype: float64"
      ]
     },
     "execution_count": 115,
     "metadata": {},
     "output_type": "execute_result"
    }
   ],
   "source": [
    "#remove placeholder for applications with 365243 placeholder\n",
    "#these records could bias/skew the model due to their inaccuracy and volume\n",
    "df_filtered = df[df['DAYS_EMPLOYED'] != 365243].copy()\n",
    "\n",
    "#convert negative time values to positive : updated DAYS_BIRTH and DAYS_EMPLOYED from negative to positive values. Originally, they represented days before the application date, but converting them makes interpretation easier (i.e., age and employment length).\n",
    "df_filtered['DAYS_BIRTH'] = df_filtered['DAYS_BIRTH'].abs()\n",
    "df_filtered['DAYS_EMPLOYED'] = df_filtered['DAYS_EMPLOYED'].abs()\n",
    "\n",
    "#validate changes were made to 'DAYS_EMPLOYED'\n",
    "df_filtered['DAYS_EMPLOYED'].describe()\n"
   ]
  },
  {
   "cell_type": "code",
   "execution_count": 116,
   "id": "bf537934",
   "metadata": {},
   "outputs": [
    {
     "data": {
      "text/plain": [
       "count    252137.000000\n",
       "mean      14769.133174\n",
       "std        3662.573769\n",
       "min        7489.000000\n",
       "25%       11775.000000\n",
       "50%       14573.000000\n",
       "75%       17563.000000\n",
       "max       25200.000000\n",
       "Name: DAYS_BIRTH, dtype: float64"
      ]
     },
     "execution_count": 116,
     "metadata": {},
     "output_type": "execute_result"
    }
   ],
   "source": [
    "#validate changes were made to 'DAYS_BIRTH'\n",
    "df_filtered['DAYS_BIRTH'].describe()\n"
   ]
  },
  {
   "cell_type": "code",
   "execution_count": 117,
   "id": "54097a78",
   "metadata": {},
   "outputs": [
    {
     "data": {
      "text/html": [
       "<div>\n",
       "<style scoped>\n",
       "    .dataframe tbody tr th:only-of-type {\n",
       "        vertical-align: middle;\n",
       "    }\n",
       "\n",
       "    .dataframe tbody tr th {\n",
       "        vertical-align: top;\n",
       "    }\n",
       "\n",
       "    .dataframe thead th {\n",
       "        text-align: right;\n",
       "    }\n",
       "</style>\n",
       "<table border=\"1\" class=\"dataframe\">\n",
       "  <thead>\n",
       "    <tr style=\"text-align: right;\">\n",
       "      <th></th>\n",
       "      <th>DAYS_BIRTH</th>\n",
       "      <th>DAYS_EMPLOYED</th>\n",
       "      <th>AMT_INCOME_TOTAL</th>\n",
       "      <th>DAYS_BIRTH_SQ</th>\n",
       "      <th>INCOME_SQ</th>\n",
       "      <th>BIRTH_EMPLOYED_INTER</th>\n",
       "    </tr>\n",
       "  </thead>\n",
       "  <tbody>\n",
       "    <tr>\n",
       "      <th>0</th>\n",
       "      <td>9461</td>\n",
       "      <td>637</td>\n",
       "      <td>202500.0</td>\n",
       "      <td>89510521</td>\n",
       "      <td>4.100625e+10</td>\n",
       "      <td>6026657</td>\n",
       "    </tr>\n",
       "    <tr>\n",
       "      <th>1</th>\n",
       "      <td>16765</td>\n",
       "      <td>1188</td>\n",
       "      <td>270000.0</td>\n",
       "      <td>281065225</td>\n",
       "      <td>7.290000e+10</td>\n",
       "      <td>19916820</td>\n",
       "    </tr>\n",
       "    <tr>\n",
       "      <th>2</th>\n",
       "      <td>19046</td>\n",
       "      <td>225</td>\n",
       "      <td>67500.0</td>\n",
       "      <td>362750116</td>\n",
       "      <td>4.556250e+09</td>\n",
       "      <td>4285350</td>\n",
       "    </tr>\n",
       "    <tr>\n",
       "      <th>3</th>\n",
       "      <td>19005</td>\n",
       "      <td>3039</td>\n",
       "      <td>135000.0</td>\n",
       "      <td>361190025</td>\n",
       "      <td>1.822500e+10</td>\n",
       "      <td>57756195</td>\n",
       "    </tr>\n",
       "    <tr>\n",
       "      <th>4</th>\n",
       "      <td>19932</td>\n",
       "      <td>3038</td>\n",
       "      <td>121500.0</td>\n",
       "      <td>397284624</td>\n",
       "      <td>1.476225e+10</td>\n",
       "      <td>60553416</td>\n",
       "    </tr>\n",
       "  </tbody>\n",
       "</table>\n",
       "</div>"
      ],
      "text/plain": [
       "   DAYS_BIRTH  DAYS_EMPLOYED  AMT_INCOME_TOTAL  DAYS_BIRTH_SQ     INCOME_SQ  \\\n",
       "0        9461            637          202500.0       89510521  4.100625e+10   \n",
       "1       16765           1188          270000.0      281065225  7.290000e+10   \n",
       "2       19046            225           67500.0      362750116  4.556250e+09   \n",
       "3       19005           3039          135000.0      361190025  1.822500e+10   \n",
       "4       19932           3038          121500.0      397284624  1.476225e+10   \n",
       "\n",
       "   BIRTH_EMPLOYED_INTER  \n",
       "0               6026657  \n",
       "1              19916820  \n",
       "2               4285350  \n",
       "3              57756195  \n",
       "4              60553416  "
      ]
     },
     "execution_count": 117,
     "metadata": {},
     "output_type": "execute_result"
    }
   ],
   "source": [
    "#create polynomial/squared features for features we selected \n",
    "df_filtered['DAYS_BIRTH_SQ'] = df_filtered['DAYS_BIRTH'] ** 2\n",
    "df_filtered['INCOME_SQ'] = df_filtered['AMT_INCOME_TOTAL'] ** 2\n",
    "\n",
    "#create interaction -- age vs employment duration\n",
    "df_filtered['BIRTH_EMPLOYED_INTER'] = df_filtered['DAYS_BIRTH'] * df_filtered['DAYS_EMPLOYED']\n",
    "\n",
    "#review the updated df\n",
    "df_filtered[['DAYS_BIRTH', 'DAYS_EMPLOYED', 'AMT_INCOME_TOTAL', \n",
    "             'DAYS_BIRTH_SQ', 'INCOME_SQ', 'BIRTH_EMPLOYED_INTER']].head()\n"
   ]
  },
  {
   "cell_type": "markdown",
   "id": "c154d517",
   "metadata": {},
   "source": [
    "To improve our linear regression model, we added the following engineered features:\n",
    "\n",
    "- DAYS_BIRTH_SQ: This squared term captures potential nonlinear relationships between age and default. For example, the effect of age might not be strictly linear; both very young and/or very old applicants could default more or less than middle-aged applicants or each other.\n",
    "- INCOME_SQ: income might have a nonlinear effect as  extremely low or extremely high incomes could be linked to higher risk in different ways.\n",
    "- BIRTH_EMPLOYED_INTER: This interaction term* represents the combined effect of age and employment duration. For example, someone older *and* with a long employment history might be much less risky than someone older but recently employed.\n",
    "\n",
    "These transformations help a linear model approximate more complex relationships in the data, without needing to switch to a nonlinear model yet.\n"
   ]
  },
  {
   "cell_type": "code",
   "execution_count": 118,
   "id": "e0ad3d74",
   "metadata": {},
   "outputs": [
    {
     "data": {
      "image/png": "[encoded data removed]",
      "text/plain": [
       "<Figure size 640x480 with 1 Axes>"
      ]
     },
     "metadata": {},
     "output_type": "display_data"
    },
    {
     "data": {
      "image/png": "[encoded data removed]",
      "text/plain": [
       "<Figure size 640x480 with 1 Axes>"
      ]
     },
     "metadata": {},
     "output_type": "display_data"
    },
    {
     "data": {
      "image/png": "[encoded data removed]",
      "text/plain": [
       "<Figure size 640x480 with 1 Axes>"
      ]
     },
     "metadata": {},
     "output_type": "display_data"
    }
   ],
   "source": [
    "#histograms for each engineered feature\n",
    "\n",
    "# DAYS_BIRTH_SQ\n",
    "plt.hist(df_filtered['DAYS_BIRTH_SQ'], bins=30)\n",
    "plt.title(\"DAYS_BIRTH_SQ (Age Squared)\")\n",
    "plt.xlabel(\"Value\")\n",
    "plt.ylabel(\"Frequency\")\n",
    "plt.show()\n",
    "\n",
    "# INCOME_SQ\n",
    "plt.hist(df_filtered['INCOME_SQ'], bins=30)\n",
    "plt.title(\"INCOME_SQ (Income Squared)\")\n",
    "plt.xlabel(\"Value\")\n",
    "plt.ylabel(\"Frequency\")\n",
    "plt.show()\n",
    "\n",
    "# BIRTH_EMPLOYED_INTER\n",
    "plt.hist(df_filtered['BIRTH_EMPLOYED_INTER'], bins=30)\n",
    "plt.title(\"BIRTH_EMPLOYED_INTER (Age × Employment)\")\n",
    "plt.xlabel(\"Value\")\n",
    "plt.ylabel(\"Frequency\")\n",
    "plt.show()\n",
    "\n"
   ]
  },
  {
   "cell_type": "markdown",
   "id": "a501eca2",
   "metadata": {},
   "source": [
    "### Histograms: Engineered Features Reveiw \n",
    "Created basic histograms to understand the shape of the new features:\n",
    "\n",
    "- DAYS_BIRTH_SQ: This shows how age differences grow larger as people get older. Squaring the number makes older applicants stand out more.\n",
    "\n",
    "- INCOME_SQ: This is very skewed because a small number of people have very large incomes. Squaring makes those big values even bigger.\n",
    "\n",
    "- BIRTH_EMPLOYED_INTER: This shows the interaction of age and employment. Higher values likely mean older people who’ve worked longer.\n",
    "\n",
    "These plots help us check for mistakes and think about how the model might treat extreme values. They also help us decide if we might need to scale or adjust features in future steps.\n"
   ]
  },
  {
   "cell_type": "code",
   "execution_count": 119,
   "id": "4db2fcbc",
   "metadata": {},
   "outputs": [
    {
     "name": "stdout",
     "output_type": "stream",
     "text": [
      "                Feature        VIF\n",
      "0                 const   0.000000\n",
      "1      AMT_INCOME_TOTAL   5.556938\n",
      "2            DAYS_BIRTH  67.912405\n",
      "3         DAYS_EMPLOYED  35.598595\n",
      "4         DAYS_BIRTH_SQ  74.524931\n",
      "5             INCOME_SQ   5.551562\n",
      "6  BIRTH_EMPLOYED_INTER  40.579603\n"
     ]
    },
    {
     "name": "stderr",
     "output_type": "stream",
     "text": [
      "/Users/sio.c/.pyenv/versions/3.12.0/envs/myproject/lib/python3.12/site-packages/statsmodels/regression/linear_model.py:1782: RuntimeWarning: divide by zero encountered in scalar divide\n",
      "  return 1 - self.ssr/self.centered_tss\n"
     ]
    }
   ],
   "source": [
    "#define the features for VIF calculation\n",
    "X = df_filtered[['AMT_INCOME_TOTAL', 'DAYS_BIRTH', 'DAYS_EMPLOYED',\n",
    "                 'DAYS_BIRTH_SQ', 'INCOME_SQ', 'BIRTH_EMPLOYED_INTER']]\n",
    "\n",
    "#add constant for intercept (.... as required by statsmodels)\n",
    "X_vif = sm.add_constant(X)\n",
    "\n",
    "#create DF to hold VIF values\n",
    "vif_data = pd.DataFrame()\n",
    "vif_data[\"Feature\"] = X_vif.columns\n",
    "vif_data[\"VIF\"] = [variance_inflation_factor(X_vif.values, i) for i in range(X_vif.shape[1])]\n",
    "\n",
    "print(vif_data)\n"
   ]
  },
  {
   "cell_type": "markdown",
   "id": "de7d208e",
   "metadata": {},
   "source": [
    "#### Analysis of results of VIF \n",
    "Calculated the Variance Inflation Factor (VIF) to check for multicollinearity among our features:\n",
    "\n",
    "- DAYS_BIRTH_SQ and BIRTH_EMPLOYED_INTER had extremely high VIFs (524.6 and 408.6), which is expected because they are mathematically derived from DAYS_BIRTH and DAYS_EMPLOYED.\n",
    "- DAYS_BIRTH and DAYS_EMPLOYED also showed high VIFs (67.9 and 35.6), suggesting strong correlation with other features.\n",
    "- AMT_INCOME_TOTAL and INCOME_SQ were moderately correlated, with VIFs around 5.5.\n",
    "\n",
    "These results support the engineered features add multicollinearity to the model. "
   ]
  },
  {
   "cell_type": "code",
   "execution_count": 120,
   "id": "834c33bc",
   "metadata": {},
   "outputs": [
    {
     "name": "stdout",
     "output_type": "stream",
     "text": [
      "R² Score: 0.007612761330417328\n",
      "RMSE: 0.2800573567735521\n"
     ]
    }
   ],
   "source": [
    "## Train and eval linear regression\n",
    "\n",
    "#list input features and target\n",
    "X = df_filtered[['AMT_INCOME_TOTAL', 'DAYS_BIRTH', 'DAYS_EMPLOYED',\n",
    "                 'DAYS_BIRTH_SQ', 'INCOME_SQ', 'BIRTH_EMPLOYED_INTER']]\n",
    "y = df_filtered['TARGET']  # 1 = default, 0 = no default\n",
    "\n",
    "#split into training-80% vs. testing-20% sets\n",
    "X_train, X_test, y_train, y_test = train_test_split(X, y, test_size=0.2, random_state=42)\n",
    "\n",
    "#create/train model\n",
    "model = LinearRegression()\n",
    "model.fit(X_train, y_train)\n",
    "\n",
    "#make predictions\n",
    "y_pred = model.predict(X_test)\n",
    "\n",
    "#eval model\n",
    "r2 = r2_score(y_test, y_pred)\n",
    "rmse = np.sqrt(mean_squared_error(y_test, y_pred))\n",
    "\n",
    "print(\"R² Score:\", r2)\n",
    "print(\"RMSE:\", rmse)\n"
   ]
  },
  {
   "cell_type": "markdown",
   "id": "1e56eeee",
   "metadata": {},
   "source": [
    "### model performance evaluation \n",
    "\n",
    "- R² Score = 0.0076: The model explains less than 1% of the variation in loan default. This is very low and suggests a poor fit. The 1% is supported by our EDA, which confirmed a low amount of borrowers actually default. \n",
    "- RMSE = 0.2800:  model's average prediction is off by about 28 percentage points.\n",
    "\n",
    "These results are not surprising for a few reasons:\n",
    "- We're using linear regression for a binary outcome, which is not ideal.\n",
    "- We're only using a few selected features, while the full dataset has over 100 variables.\n",
    "- The engineered features added complexity, but multicollinearity may have hurt performance.\n",
    "- We know that the dataset is imbalanced. "
   ]
  },
  {
   "cell_type": "code",
   "execution_count": 121,
   "id": "97edfc06",
   "metadata": {},
   "outputs": [
    {
     "data": {
      "image/png": "[encoded data removed]",
      "text/plain": [
       "<Figure size 640x480 with 1 Axes>"
      ]
     },
     "metadata": {},
     "output_type": "display_data"
    }
   ],
   "source": [
    "#create plot to show linear regression\n",
    "plt.scatter(y_test, y_pred, alpha=0.4)\n",
    "plt.plot([0, 1], [0, 1], 'r--')  # reference line\n",
    "plt.xlabel(\"Actual TARGET\")\n",
    "plt.ylabel(\"Predicted TARGET\")\n",
    "plt.title(\"Predicted vs. Actual (Linear Regression)\")\n",
    "plt.grid(True)\n",
    "plt.show()\n"
   ]
  },
  {
   "cell_type": "markdown",
   "id": "c7576511",
   "metadata": {},
   "source": [
    "### Impact of Class Imbalance on Model Performance \n",
    "\n",
    "Our dataset is highly imbalanced: about 92% of applicants did not default, and only 8% did.\n",
    "\n",
    "This imbalance strongly impacts model behavior:\n",
    "- The linear regression model tends to predict values close to 0 (no default), because that reduces overall error the fastest.\n",
    "- As a result, the model doesn’t learn meaningful patterns for detecting the minority class (which are the defaults at 8%).\n"
   ]
  },
  {
   "cell_type": "markdown",
   "id": "54bbe9cd",
   "metadata": {},
   "source": [
    "## Week 1 Summary: Polynomial and Interaction Terms\n",
    "\n",
    "I explored the use of polynomial and interaction termswithin a linear regression framework to predict mortgage default (i.e., TARGET) using a subset of the Kaggle Home Credit dataset.\n",
    "\n",
    "### Features Used:\n",
    "- AMT_INCOME_TOTAL (total income)\n",
    "- DAYS_BIRTH (age in days)\n",
    "- DAYS_EMPLOYED (length of employment in days)\n",
    "\n",
    "### New Features created:\n",
    "- DAYS_BIRTH_SQ = Captures age effects\n",
    "- INCOME_SQ = Captures income effects \n",
    "- BIRTH_EMPLOYED_INTER = Captures interaction between age and employment\n",
    "\n",
    "These transformations aimed to help the linear model capture nonlinear and joint effects in the data.\n",
    "\n",
    "### EDA / Data Prep:\n",
    "- DAYS_BIRTH and DAYS_EMPLOYED were stored as negative values. I converted them to positive for better/clearer understanding.\n",
    "- I identified and removed a placeholder value of 365243 in DAYS_EMPLOYED, which indicated a place holder potentially for passive income / retired / not-employed as a W2 or self-employed individual.\n",
    "- A class imbalance was present: ~92% non-default vs. ~8% default, which strongly influenced model predictions.\n",
    "\n",
    "\n",
    "### Multicollinearity Check/IVF:\n",
    "- DAYS_BIRTH_SQ and BIRTH_EMPLOYED_INTER had very high VIFs, over 400, which could indicate significant multicollinearity with their original variables.\n",
    "\n",
    "### Model Results:\n",
    "- R² Score: 0.0076\n",
    "- RMSE: 0.2800\n",
    "\n",
    "These values show poor predictive power. This is expected for three reasons:\n",
    "1. I applied  linear regression to a binary target.\n",
    "2. The dataset is highly imbalanced, leading the model to predict mostly \"non-default\".\n",
    "3. I'm only using a small subset of the available features**.\n",
    "\n",
    "\n",
    "### Key Takeaway:\n",
    "- Polynomial and interaction terms alone do not improve predictive power significantly for this classification task."
   ]
  }
 ],
 "metadata": {
  "kernelspec": {
   "display_name": "myproject",
   "language": "python",
   "name": "python3"
  },
  "language_info": {
   "codemirror_mode": {
    "name": "ipython",
    "version": 3
   },
   "file_extension": ".py",
   "mimetype": "text/x-python",
   "name": "python",
   "nbconvert_exporter": "python",
   "pygments_lexer": "ipython3",
   "version": "3.12.0"
  }
 },
 "nbformat": 4,
 "nbformat_minor": 5
}
